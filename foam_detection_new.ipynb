{
 "cells": [
  {
   "cell_type": "code",
   "execution_count": 10,
   "id": "103494d0-df2b-45a0-89ee-842a15567523",
   "metadata": {},
   "outputs": [
    {
     "name": "stdout",
     "output_type": "stream",
     "text": [
      "Requirement already satisfied: opencv-python in d:\\softwares\\anaconda\\lib\\site-packages (4.6.0.66)\n",
      "Requirement already satisfied: numpy>=1.17.3 in d:\\softwares\\anaconda\\lib\\site-packages (from opencv-python) (1.21.5)\n",
      "(480, 640)\n",
      "The foam area is 6122\n",
      "The percentage of foam is  1.9928385416666665\n",
      "the foam volume is 132706.52855440933\n"
     ]
    },
    {
     "data": {
      "text/plain": [
       "-1"
      ]
     },
     "execution_count": 10,
     "metadata": {},
     "output_type": "execute_result"
    }
   ],
   "source": [
    "!pip install opencv-python\n",
    "import cv2\n",
    "import numpy as np\n",
    "import matplotlib.pyplot as plt\n",
    "\n",
    "#img = cv2.imread(\"image.png\")\n",
    "\n",
    "cv2.namedWindow(\"preview\")\n",
    "vc = cv2.VideoCapture(0)\n",
    "\n",
    "if vc.isOpened(): # try to get the first frame\n",
    "    rval, frame = vc.read()\n",
    "else:\n",
    "    rval = False\n",
    "\n",
    "while rval:\n",
    "    cv2.imshow(\"preview\", frame)\n",
    "    rval, frame = vc.read()\n",
    "    img = frame\n",
    "\n",
    "    key = cv2.waitKey(20)\n",
    "    if key == 27: # exit on ESC\n",
    "        break\n",
    "\n",
    "vc.release()\n",
    "cv2.destroyWindow(\"preview\")\n",
    "\n",
    "def process(img):\n",
    "    img_gray = cv2.cvtColor(img, cv2.COLOR_BGR2GRAY)\n",
    "    #_, thresh = cv2.threshold(img_gray, 200, 255, cv2.THRESH_BINARY)\n",
    "    _, thresh = cv2.threshold(img_gray, 245, 255, cv2.THRESH_BINARY)#235 thresh at HAL\n",
    "    #img_blur = cv2.GaussianBlur(thresh, (5, 5), 2)\n",
    "    #img_canny = cv2.Canny(img_blur, 0, 0)\n",
    "    #return img_canny\n",
    "    return thresh\n",
    "\n",
    "def get_contours(img, thresh):\n",
    "    contours, _ = cv2.findContours(process(img), cv2.RETR_TREE, cv2.CHAIN_APPROX_NONE)\n",
    "    r1, r2 = sorted(contours, key=cv2.contourArea)[-3:-1]\n",
    "    x, y, w, h = cv2.boundingRect(np.r_[r1, r2])\n",
    "    cv2.rectangle(img, (x, y), (x + w, y + h), (0, 0, 255), 2)\n",
    "    \n",
    "def get_moments(thresh):    \n",
    "    \n",
    "    # calculate moments of binary image\n",
    "   # M = cv2.moments(thresh)\n",
    "    \n",
    "    # Calculate area\n",
    "    # foam_area = M['m00']\n",
    "    foam_area = cv2.countNonZero(process(img))\n",
    "    \n",
    "    # Calculate centroid\n",
    "    #cx = int(M['m10']/M['m00'])\n",
    "    #cy = int(M['m01']/M['m00'])\n",
    "\n",
    "    print(\"The foam area is\",foam_area)\n",
    "    return foam_area\n",
    "    \n",
    "#get_contours(img)\n",
    "d1 = 4.8 #diameter of circle 1 in cm\n",
    "d2 = 9.0   #diameter of circle 2 in cm\n",
    "r1 = d1/2.0\n",
    "r2 = d2/2.0\n",
    "circ_1 = 2.0 * np.pi * r1 #circumference 1\n",
    "circ_2 = 2.0 * np.pi * r2 #circumference 2\n",
    "final_circ = (circ_1 + circ_2)/2.0 #taking the average circumference\n",
    "\n",
    "pro_img = process(img)\n",
    "\n",
    "cv2.imshow(\"img_processed\", pro_img)\n",
    "dims = pro_img.shape\n",
    "print(dims)\n",
    "image_area = pro_img.shape[0] * pro_img.shape[1]\n",
    "\n",
    "A = get_moments(process(img)) #getting the area of foam\n",
    "foam_per = (A/(image_area))*100 \n",
    "print(\"The percentage of foam is \",foam_per)\n",
    "\n",
    "foam_vol = A * final_circ\n",
    "print(\"the foam volume is\", foam_vol)\n",
    "\n",
    "#height, width, _ = dims\n",
    "#area = height * width\n",
    "#print(\"Area of the image is : \", area)\n",
    "cv2.waitKey(0)\n"
   ]
  },
  {
   "cell_type": "code",
   "execution_count": null,
   "id": "d3eeaaa9-da9e-404d-a4bb-93e09ec3af7f",
   "metadata": {},
   "outputs": [],
   "source": []
  },
  {
   "cell_type": "code",
   "execution_count": null,
   "id": "1d0d039e-dc5a-43c2-8f69-9c25d6d7a4d8",
   "metadata": {},
   "outputs": [],
   "source": []
  }
 ],
 "metadata": {
  "kernelspec": {
   "display_name": "Python 3 (ipykernel)",
   "language": "python",
   "name": "python3"
  },
  "language_info": {
   "codemirror_mode": {
    "name": "ipython",
    "version": 3
   },
   "file_extension": ".py",
   "mimetype": "text/x-python",
   "name": "python",
   "nbconvert_exporter": "python",
   "pygments_lexer": "ipython3",
   "version": "3.9.12"
  }
 },
 "nbformat": 4,
 "nbformat_minor": 5
}
